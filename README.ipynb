{
 "cells": [
  {
   "cell_type": "markdown",
   "id": "greek-flight",
   "metadata": {},
   "source": [
    "## What is the use of SumTime?\n",
    "\n",
    "- Adds time strings\n",
    "- can convert/add time strings from a wide variety of input options\n",
    "- Flexible time additions and assignment\n",
    "- Convert to datetime.timedelta object\n",
    "- A handy tool for quick time calculations!"
   ]
  },
  {
   "cell_type": "markdown",
   "id": "portable-colorado",
   "metadata": {},
   "source": [
    "## Import class from file"
   ]
  },
  {
   "cell_type": "code",
   "execution_count": 3,
   "id": "regulated-letters",
   "metadata": {},
   "outputs": [],
   "source": [
    "from ArithTime import SumTime as st"
   ]
  },
  {
   "cell_type": "markdown",
   "id": "juvenile-criterion",
   "metadata": {},
   "source": [
    "## declare SumTime object"
   ]
  },
  {
   "cell_type": "code",
   "execution_count": 4,
   "id": "intense-protection",
   "metadata": {},
   "outputs": [
    {
     "name": "stdout",
     "output_type": "stream",
     "text": [
      "0 0 0 s_blank => \n",
      "0 0 0 s_blank_2 => \n"
     ]
    }
   ],
   "source": [
    "# declaring st(\"1hrs 20mins\") is equivalent to st(\"1 20\")\n",
    "s1 = st(\"1hrs 20mins\")\n",
    "\n",
    "s_blank = st()\n",
    "s_blank_2 = st('')\n",
    "\n",
    "print(s_blank.get_hrs(), s_blank.get_minutes(), s_blank.get_secs(), \"s_blank =>\", s_blank)\n",
    "print(s_blank_2.get_hrs(), s_blank_2.get_minutes(), s_blank_2.get_secs(), \"s_blank_2 =>\",s_blank_2)"
   ]
  },
  {
   "cell_type": "markdown",
   "id": "coupled-andrew",
   "metadata": {},
   "source": [
    "<h2> Addition with valid time strings </h2>\n",
    "\n",
    "    [time_value][flag]<separator>[time_value][flag]\n",
    "    \n",
    "    - time_value = \\d or any Integer\n",
    "    - flag = hrs | mins | secs\n",
    "    - <separator> = not compulsory, can be any character."
   ]
  },
  {
   "cell_type": "code",
   "execution_count": 11,
   "id": "touched-appraisal",
   "metadata": {},
   "outputs": [
    {
     "name": "stdout",
     "output_type": "stream",
     "text": [
      "1hrs\n",
      "3hrs 41mins\n",
      "1hrs 10mins repr=> SumTime('1 10 0')\n"
     ]
    }
   ],
   "source": [
    "# perform addition of time strings\n",
    "s1 = st(\"1 00\")\n",
    "print(s1)\n",
    "s1 += [\"20mins\" ,\"1hrs 10mins\" , \"50mins\"] + [\"10mins\" , \"0hrs-60secs\" , \"10mins\"]\n",
    "print(s1)\n",
    "\n",
    "s_mins = st(\"1hrs 10mins\")\n",
    "print(s_mins, 'repr=>',repr(s_mins))"
   ]
  },
  {
   "cell_type": "markdown",
   "id": "understanding-correspondence",
   "metadata": {},
   "source": [
    "## convert to datetime.timedelta object"
   ]
  },
  {
   "cell_type": "code",
   "execution_count": 12,
   "id": "anticipated-timer",
   "metadata": {},
   "outputs": [
    {
     "name": "stdout",
     "output_type": "stream",
     "text": [
      "<class 'datetime.timedelta'>\n",
      "13260\n"
     ]
    }
   ],
   "source": [
    "td = s1.to_timedelta()\n",
    "print(type(td))\n",
    "print(td.seconds)"
   ]
  },
  {
   "cell_type": "markdown",
   "id": "mineral-refrigerator",
   "metadata": {},
   "source": [
    "## Addition on SumTime object\n",
    "\n",
    "__Other than adding 2 SumTime objects\n",
    "adding strings with SumTime object is also possible (as shown above)__"
   ]
  },
  {
   "cell_type": "markdown",
   "id": "charming-karen",
   "metadata": {},
   "source": [
    "## Possible operations all together!"
   ]
  },
  {
   "cell_type": "code",
   "execution_count": 26,
   "id": "horizontal-alliance",
   "metadata": {},
   "outputs": [
    {
     "name": "stdout",
     "output_type": "stream",
     "text": [
      "s1=3hrs 41mins\n",
      "s3=4hrs 40mins\n",
      "\n",
      "------------------------------------------------\n",
      "Printing hrs, mins, secs individually:\n",
      "4 hrs\n",
      "40 mins\n",
      "0 secs\n",
      "s3 as a whole => 4hrs 40mins\n",
      "------------------------------------------------\n",
      "store in string format: <class 'str'> 4hrs 40mins \n",
      "\n",
      "\n",
      "object:4hrs 40mins\n",
      "list_return:[4, 40, None]\n",
      "string_return:4 40 0\n",
      "------------------------------------------------\n",
      "New instance: SumTime('4 40 0')\n",
      "SumTime object: <class 'ArithTime.SumTime'> 4hrs 40mins\n"
     ]
    }
   ],
   "source": [
    "s2 = st(\"0 59\")  # 0hrs 59 minutes (read definition in init to know more possible input types)\n",
    "\n",
    "# perform SumTime object addition\n",
    "print(f\"s1={s1}\")\n",
    "s3 = s1 + s2\n",
    "print(f\"s3={s3}\\n\")\n",
    "\n",
    "# get individual time flags\n",
    "print(16*'---')\n",
    "print(\"Printing hrs, mins, secs individually:\")\n",
    "print(s3.get_hrs(), 'hrs')\n",
    "print(s3.get_minutes(), 'mins')\n",
    "print(s3.get_secs(), 'secs')\n",
    "\n",
    "# print SumTime object\n",
    "print(\"s3 as a whole =>\",s3)\n",
    "print(16*'---')\n",
    "\n",
    "\n",
    "#store in string format\n",
    "s3_str_fmt = str(s3)\n",
    "print(\"store in string format:\", type(s3_str_fmt), s3_str_fmt,'\\n\\n')\n",
    "\n",
    "# format conversions\n",
    "sum_time_obj = st.to_sumtime(str(s3), return_type='obj')  # return as SumTime object\n",
    "time_list = st.to_sumtime(str(s3), return_type='list')  # return list[hrs, mins, secs]\n",
    "time_string = st.to_sumtime(str(s3), return_type='str')  # return as str format, (this can be use to create a new instance of class)\n",
    "\n",
    "print(f\"object:{sum_time_obj}\\nlist_return:{time_list}\\nstring_return:{time_string}\\n{16*'---'}\")\n",
    "\n",
    "new_inst = st(time_string)\n",
    "print(\"New instance:\",repr(new_inst))\n",
    "\n",
    "print(\"SumTime object:\", type(sum_time_obj), sum_time_obj)"
   ]
  }
 ],
 "metadata": {
  "kernelspec": {
   "display_name": "Python 3",
   "language": "python",
   "name": "python3"
  },
  "language_info": {
   "codemirror_mode": {
    "name": "ipython",
    "version": 3
   },
   "file_extension": ".py",
   "mimetype": "text/x-python",
   "name": "python",
   "nbconvert_exporter": "python",
   "pygments_lexer": "ipython3",
   "version": "3.8.5"
  }
 },
 "nbformat": 4,
 "nbformat_minor": 5
}
